{
 "cells": [
  {
   "cell_type": "markdown",
   "id": "1a383778-9789-48fe-b011-c551eafc7e21",
   "metadata": {},
   "source": [
    "# Pandas basic"
   ]
  },
  {
   "cell_type": "markdown",
   "id": "17f1d320-7179-4055-a917-9bcc81e4c41c",
   "metadata": {},
   "source": [
    "# Questin-1- Create a Pandas Series that contains the following data: 4, 8, 15, 16, 23, and 42. Then, print the series."
   ]
  },
  {
   "cell_type": "markdown",
   "id": "98ac09a1-fb0e-4a18-8694-f4088d63c482",
   "metadata": {},
   "source": [
    "Answeer-1-"
   ]
  },
  {
   "cell_type": "code",
   "execution_count": 3,
   "id": "f1579419-c638-4e9e-acaa-98a4885c4add",
   "metadata": {},
   "outputs": [],
   "source": [
    "import pandas as pd"
   ]
  },
  {
   "cell_type": "code",
   "execution_count": 4,
   "id": "c333b8f1-c052-4044-b18f-a31640c66226",
   "metadata": {},
   "outputs": [],
   "source": [
    "data = [4, 8, 15, 16, 23, 42]"
   ]
  },
  {
   "cell_type": "code",
   "execution_count": 5,
   "id": "8632241e-5509-45e8-b4e2-aca8b69fdf6f",
   "metadata": {},
   "outputs": [],
   "source": [
    "series = pd.Series(data)"
   ]
  },
  {
   "cell_type": "code",
   "execution_count": 7,
   "id": "894e712c-f444-4b3e-ae11-02e3b023b0f8",
   "metadata": {},
   "outputs": [
    {
     "name": "stdout",
     "output_type": "stream",
     "text": [
      "0     4\n",
      "1     8\n",
      "2    15\n",
      "3    16\n",
      "4    23\n",
      "5    42\n",
      "dtype: int64\n"
     ]
    }
   ],
   "source": [
    "print(series)"
   ]
  },
  {
   "cell_type": "markdown",
   "id": "1de665fd-1d42-4fd6-93f1-36153a5a1ad4",
   "metadata": {},
   "source": [
    "# Question-2. Create a variable of list type containing 10 elements in it, and apply pandas.Series function on the variable print it."
   ]
  },
  {
   "cell_type": "markdown",
   "id": "d2e218c5-0729-4ddc-a011-cc3d81890abc",
   "metadata": {},
   "source": [
    "# Answer-2-"
   ]
  },
  {
   "cell_type": "code",
   "execution_count": 8,
   "id": "4b989b76-67cc-4377-a663-f81244338f1e",
   "metadata": {},
   "outputs": [],
   "source": [
    "l = [1, 2, 3, 4, 5, 6, 7, 8, 9, 10]"
   ]
  },
  {
   "cell_type": "code",
   "execution_count": 9,
   "id": "8d6296c8-e710-49a6-b99e-60c6e2908e32",
   "metadata": {},
   "outputs": [],
   "source": [
    "my_series = pd.Series(l)"
   ]
  },
  {
   "cell_type": "code",
   "execution_count": 10,
   "id": "d5f34248-79b5-461a-9577-dcf12c0b6939",
   "metadata": {},
   "outputs": [
    {
     "name": "stdout",
     "output_type": "stream",
     "text": [
      "0     1\n",
      "1     2\n",
      "2     3\n",
      "3     4\n",
      "4     5\n",
      "5     6\n",
      "6     7\n",
      "7     8\n",
      "8     9\n",
      "9    10\n",
      "dtype: int64\n"
     ]
    }
   ],
   "source": [
    "print(my_series)"
   ]
  },
  {
   "cell_type": "markdown",
   "id": "d595d8ec-2a05-430c-bc1e-6018c2086668",
   "metadata": {},
   "source": [
    "# Q3. Create a Pandas DataFrame that contains the following data:\n",
    "name=alice,bob,claire\n",
    "Age= 25,30,27\n",
    "Gender=Female,Male,Female\n",
    "\n",
    "Then, print the DataFrame."
   ]
  },
  {
   "cell_type": "code",
   "execution_count": 11,
   "id": "233c6550-5a0e-442b-ae13-9c38f25502b5",
   "metadata": {},
   "outputs": [],
   "source": [
    "data2 = {\n",
    "    'Name': ['Alice', 'Bob', 'Charlie'],\n",
    "    'Age': [25, 30, 27],\n",
    "    'Gender': ['female','male','female']}"
   ]
  },
  {
   "cell_type": "code",
   "execution_count": 12,
   "id": "19585e5a-8f93-468a-9f26-e089ce069eb1",
   "metadata": {},
   "outputs": [],
   "source": [
    "df = pd.DataFrame(data2)"
   ]
  },
  {
   "cell_type": "code",
   "execution_count": 13,
   "id": "78fdfdd6-a84d-457a-8ae3-2b27bad95595",
   "metadata": {},
   "outputs": [
    {
     "name": "stdout",
     "output_type": "stream",
     "text": [
      "      Name  Age  Gender\n",
      "0    Alice   25  female\n",
      "1      Bob   30    male\n",
      "2  Charlie   27  female\n"
     ]
    }
   ],
   "source": [
    "print(df)"
   ]
  },
  {
   "cell_type": "markdown",
   "id": "ec164fa7-09bd-4771-9839-3fac97ba0b24",
   "metadata": {},
   "source": [
    "# Question-4. What is ‘DataFrame’ in pandas and how is it different from pandas.series? Explain with an example."
   ]
  },
  {
   "cell_type": "markdown",
   "id": "c2604f09-5706-4f09-a214-5c1b9a932913",
   "metadata": {},
   "source": [
    "# Answer-4- In pandas, a DataFrame is a two-dimensional, size-mutable, and potentially heterogeneous tabular data structure with labeled axes (rows and columns). It is essentially a table with rows and columns, where each column can have a different data type."
   ]
  },
  {
   "cell_type": "markdown",
   "id": "61533c4f-0d02-475f-9861-cd871b92bbd4",
   "metadata": {},
   "source": [
    "# A Pandas Series is a one-dimensional labeled array capable of holding any data type. It is like a single column of data in a table or a one-dimensional array. A DataFrame is essentially a collection of Series objects with a shared index."
   ]
  },
  {
   "cell_type": "code",
   "execution_count": 14,
   "id": "9fd035a1-bfbb-4bbd-bf00-df15c67c1b17",
   "metadata": {},
   "outputs": [],
   "source": [
    "ser = pd.Series([10, 20, 30, 40, 50], name='MySeries')"
   ]
  },
  {
   "cell_type": "code",
   "execution_count": 15,
   "id": "492db9a1-e21b-49f8-8341-1f43dc4bca5d",
   "metadata": {},
   "outputs": [
    {
     "name": "stdout",
     "output_type": "stream",
     "text": [
      "0    10\n",
      "1    20\n",
      "2    30\n",
      "3    40\n",
      "4    50\n",
      "Name: MySeries, dtype: int64\n"
     ]
    }
   ],
   "source": [
    "print(ser)"
   ]
  },
  {
   "cell_type": "code",
   "execution_count": 17,
   "id": "9c3ce1b0-8b9b-4ea6-8d6b-1408fb2a20ec",
   "metadata": {},
   "outputs": [],
   "source": [
    "# pandas series\n",
    "data3 = {\n",
    "    'Name': ['Alice', 'Bob', 'Charlie'],\n",
    "    'Age': [25, 30, 35]}"
   ]
  },
  {
   "cell_type": "code",
   "execution_count": 18,
   "id": "a84b0477-f2f4-4ceb-91f0-140a507469b7",
   "metadata": {},
   "outputs": [],
   "source": [
    "df = pd.DataFrame(data3)"
   ]
  },
  {
   "cell_type": "code",
   "execution_count": 19,
   "id": "4a844fa7-95b3-4256-ab3c-3a16a966d35d",
   "metadata": {},
   "outputs": [
    {
     "name": "stdout",
     "output_type": "stream",
     "text": [
      "      Name  Age\n",
      "0    Alice   25\n",
      "1      Bob   30\n",
      "2  Charlie   35\n"
     ]
    }
   ],
   "source": [
    "print(df)"
   ]
  },
  {
   "cell_type": "markdown",
   "id": "b60646c6-11e6-4acd-8151-c6d7c8d490a8",
   "metadata": {},
   "source": [
    "# Q5. What are some common functions you can use to manipulate data in a Pandas DataFrame? Can you give an example of when you might use one of these functions?"
   ]
  },
  {
   "cell_type": "markdown",
   "id": "aa5a3a0c-fdfe-47e7-abf6-4d0bbaae1092",
   "metadata": {},
   "source": [
    "# answer-5- like head and tail"
   ]
  },
  {
   "cell_type": "code",
   "execution_count": 20,
   "id": "b1bde081-a2a4-48cd-a17b-5ffcfa80e378",
   "metadata": {},
   "outputs": [
    {
     "data": {
      "text/html": [
       "<div>\n",
       "<style scoped>\n",
       "    .dataframe tbody tr th:only-of-type {\n",
       "        vertical-align: middle;\n",
       "    }\n",
       "\n",
       "    .dataframe tbody tr th {\n",
       "        vertical-align: top;\n",
       "    }\n",
       "\n",
       "    .dataframe thead th {\n",
       "        text-align: right;\n",
       "    }\n",
       "</style>\n",
       "<table border=\"1\" class=\"dataframe\">\n",
       "  <thead>\n",
       "    <tr style=\"text-align: right;\">\n",
       "      <th></th>\n",
       "      <th>Name</th>\n",
       "      <th>Age</th>\n",
       "    </tr>\n",
       "  </thead>\n",
       "  <tbody>\n",
       "    <tr>\n",
       "      <th>0</th>\n",
       "      <td>Alice</td>\n",
       "      <td>25</td>\n",
       "    </tr>\n",
       "    <tr>\n",
       "      <th>1</th>\n",
       "      <td>Bob</td>\n",
       "      <td>30</td>\n",
       "    </tr>\n",
       "    <tr>\n",
       "      <th>2</th>\n",
       "      <td>Charlie</td>\n",
       "      <td>35</td>\n",
       "    </tr>\n",
       "  </tbody>\n",
       "</table>\n",
       "</div>"
      ],
      "text/plain": [
       "      Name  Age\n",
       "0    Alice   25\n",
       "1      Bob   30\n",
       "2  Charlie   35"
      ]
     },
     "execution_count": 20,
     "metadata": {},
     "output_type": "execute_result"
    }
   ],
   "source": [
    "df.head()"
   ]
  },
  {
   "cell_type": "code",
   "execution_count": 21,
   "id": "3b0c22c8-fad4-437d-9905-b3492a5b23aa",
   "metadata": {},
   "outputs": [
    {
     "data": {
      "text/html": [
       "<div>\n",
       "<style scoped>\n",
       "    .dataframe tbody tr th:only-of-type {\n",
       "        vertical-align: middle;\n",
       "    }\n",
       "\n",
       "    .dataframe tbody tr th {\n",
       "        vertical-align: top;\n",
       "    }\n",
       "\n",
       "    .dataframe thead th {\n",
       "        text-align: right;\n",
       "    }\n",
       "</style>\n",
       "<table border=\"1\" class=\"dataframe\">\n",
       "  <thead>\n",
       "    <tr style=\"text-align: right;\">\n",
       "      <th></th>\n",
       "      <th>Name</th>\n",
       "      <th>Age</th>\n",
       "    </tr>\n",
       "  </thead>\n",
       "  <tbody>\n",
       "    <tr>\n",
       "      <th>0</th>\n",
       "      <td>Alice</td>\n",
       "      <td>25</td>\n",
       "    </tr>\n",
       "    <tr>\n",
       "      <th>1</th>\n",
       "      <td>Bob</td>\n",
       "      <td>30</td>\n",
       "    </tr>\n",
       "    <tr>\n",
       "      <th>2</th>\n",
       "      <td>Charlie</td>\n",
       "      <td>35</td>\n",
       "    </tr>\n",
       "  </tbody>\n",
       "</table>\n",
       "</div>"
      ],
      "text/plain": [
       "      Name  Age\n",
       "0    Alice   25\n",
       "1      Bob   30\n",
       "2  Charlie   35"
      ]
     },
     "execution_count": 21,
     "metadata": {},
     "output_type": "execute_result"
    }
   ],
   "source": [
    "df.tail()"
   ]
  },
  {
   "cell_type": "code",
   "execution_count": 22,
   "id": "0a002f54-c10d-4268-b958-0844ab0be106",
   "metadata": {},
   "outputs": [
    {
     "data": {
      "text/plain": [
       "<bound method DataFrame.info of       Name  Age\n",
       "0    Alice   25\n",
       "1      Bob   30\n",
       "2  Charlie   35>"
      ]
     },
     "execution_count": 22,
     "metadata": {},
     "output_type": "execute_result"
    }
   ],
   "source": [
    "df.info"
   ]
  },
  {
   "cell_type": "code",
   "execution_count": 23,
   "id": "370b36d0-5df9-4ccc-ab73-79fe3cfc5520",
   "metadata": {},
   "outputs": [
    {
     "data": {
      "text/plain": [
       "<bound method NDFrame.describe of       Name  Age\n",
       "0    Alice   25\n",
       "1      Bob   30\n",
       "2  Charlie   35>"
      ]
     },
     "execution_count": 23,
     "metadata": {},
     "output_type": "execute_result"
    }
   ],
   "source": [
    "df.describe"
   ]
  },
  {
   "cell_type": "markdown",
   "id": "f06814b4-e34b-4f65-bf13-3470cb0279ba",
   "metadata": {},
   "source": [
    "# Question-6. Which of the following is mutable in nature Series, DataFrame, Panel?"
   ]
  },
  {
   "cell_type": "markdown",
   "id": "67899095-ce43-4831-9513-7f6da01d0f88",
   "metadata": {},
   "source": [
    "# Answer-6-\n",
    "# Series: A Pandas Series is a one-dimensional labeled array and is mutable, meaning you can modify the elements after creation.\n",
    "\n",
    "# DataFrame: A Pandas DataFrame is a two-dimensional labeled data structure and is also mutable. You can modify the data, add or remove columns, change column names, etc.\n",
    "\n",
    "# Panel: Panels were a three-dimensional data structure in older versions of Pandas, but they have been removed in recent versions (from 0.25.0, July 2019). As of the current versions of Pandas, the recommended way to handle three-dimensional data is to use a MultiIndex DataFrame."
   ]
  },
  {
   "cell_type": "markdown",
   "id": "5f8f24c8-e6d3-4b83-80af-c55151845045",
   "metadata": {},
   "source": [
    "# Question-7. Create a DataFrame using multiple Series. Explain with an example."
   ]
  },
  {
   "cell_type": "code",
   "execution_count": 24,
   "id": "0752f4b4-306e-4dd9-ae90-e2c8819c8c86",
   "metadata": {},
   "outputs": [],
   "source": [
    "series1 = pd.Series([10, 20, 30, 40], name='Series1')\n",
    "series2 = pd.Series(['a', 'b', 'c', 'd'], name='Series2')"
   ]
  },
  {
   "cell_type": "code",
   "execution_count": 25,
   "id": "8b6c0602-af58-42f3-8fc7-33e376632f97",
   "metadata": {},
   "outputs": [],
   "source": [
    "df = pd.DataFrame({series1.name: series1, series2.name: series2})"
   ]
  },
  {
   "cell_type": "code",
   "execution_count": 26,
   "id": "09f1b937-d688-4692-be25-40ec980e41c3",
   "metadata": {},
   "outputs": [
    {
     "name": "stdout",
     "output_type": "stream",
     "text": [
      "   Series1 Series2\n",
      "0       10       a\n",
      "1       20       b\n",
      "2       30       c\n",
      "3       40       d\n"
     ]
    }
   ],
   "source": [
    "print(df)"
   ]
  },
  {
   "cell_type": "markdown",
   "id": "4865a7a0-20d3-461d-912f-01c1dbaef924",
   "metadata": {},
   "source": [
    "# assignment completed"
   ]
  }
 ],
 "metadata": {
  "kernelspec": {
   "display_name": "Python 3 (ipykernel)",
   "language": "python",
   "name": "python3"
  },
  "language_info": {
   "codemirror_mode": {
    "name": "ipython",
    "version": 3
   },
   "file_extension": ".py",
   "mimetype": "text/x-python",
   "name": "python",
   "nbconvert_exporter": "python",
   "pygments_lexer": "ipython3",
   "version": "3.10.8"
  }
 },
 "nbformat": 4,
 "nbformat_minor": 5
}
